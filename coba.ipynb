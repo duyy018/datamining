{
 "cells": [
  {
   "cell_type": "markdown",
   "metadata": {},
   "source": [
    "# Data Mining\n",
    "#### import library BeautifulSoup4 dan Request serta menyimpan alamat pada di variabel"
   ]
  },
  {
   "cell_type": "code",
   "execution_count": 1,
   "metadata": {
    "scrolled": true
   },
   "outputs": [],
   "source": [
    "from bs4 import BeautifulSoup as soup\n",
    "from urllib.request import urlopen as uReq\n",
    "html = \"https://www.jd.id/search?keywords=laptop&sortType=sort_total_sale_amount_desc&lowPrice=2500000&highPrice=15000000\""
   ]
  },
  {
   "cell_type": "markdown",
   "metadata": {},
   "source": [
    "##### Open Koneksi -> Download Page -> Close Koneksi -> Save to Variable -> Print beberapa isi Variable"
   ]
  },
  {
   "cell_type": "code",
   "execution_count": null,
   "metadata": {},
   "outputs": [],
   "source": [
    "con = uReq(html)\n",
    "html = con.read()\n",
    "con. close\n",
    "page = soup(html, \"lxml\")\n",
    "print(type(page))\n",
    "print(page.prettify()[1:200])"
   ]
  },
  {
   "cell_type": "markdown",
   "metadata": {},
   "source": [
    "##### Mencari list Produk -> Print Panjang LIst Produk -> "
   ]
  },
  {
   "cell_type": "code",
   "execution_count": null,
   "metadata": {},
   "outputs": [],
   "source": [
    "p = page.findAll(\"div\", {\"data-suit\":\"0\"})\n",
    "print(len(p))\n",
    "produk = p[0]\n",
    "nama = produk.find(\"div\",{\"class\":\"p-desc\"}).a[\"title\"]\n",
    "harga = produk.find(\"span\",{\"eptid\":\"price\"})\n",
    "diskon = produk.find(\"span\",{\"class\":\"discount-rate\"})\n",
    "pembeli = produk.find(\"div\",{\"class\":\"p-user-line clearfix\"})"
   ]
  },
  {
   "cell_type": "markdown",
   "metadata": {},
   "source": [
    "###### Membuat file Produk.csv -> Memberi Kolom"
   ]
  },
  {
   "cell_type": "code",
   "execution_count": null,
   "metadata": {},
   "outputs": [],
   "source": [
    "namafile = \"produk.csv\"\n",
    "f = open(namafile, \"w\")\n",
    "column=\"Nama_Produk,Warna,Harga,Diskon,Pembeli\\n\"\n",
    "f.write(column)"
   ]
  },
  {
   "cell_type": "markdown",
   "metadata": {},
   "source": [
    "##### Looping cetak dan masukan data ke produk.csv"
   ]
  },
  {
   "cell_type": "code",
   "execution_count": null,
   "metadata": {},
   "outputs": [],
   "source": [
    "for produk in p:\n",
    "    Nama_Produk = produk.find(\"div\",{\"class\":\"p-desc\"}).a[\"title\"]\n",
    "    Harga = produk.find(\"span\",{\"eptid\":\"price\"})\n",
    "    Diskon = produk.find(\"span\",{\"class\":\"discount-rate\"})\n",
    "    Pembeli = produk.find(\"div\",{\"class\":\"p-user-line clearfix\"})\n",
    "    \n",
    "    pnama = Nama_Produk.split(\"/\")[0].replace(\"\\u200B\",\"\")\n",
    "    pwarna = Nama_Produk.split(\"-\")[-1].strip()\n",
    "    pharga = Harga.text.split(\" \")[1].replace(\",\",\"\")\n",
    "    ppembeli = Pembeli.text.strip().replace(\"(\",\"\").replace(\")\",\"\")\n",
    "    pdiskon = Diskon.text.split(\" \")[0]\n",
    "    \n",
    "    #print(pnama+\"\\n\")\n",
    "    #f.write(pnama+\"\\n\")\n",
    "    print(pnama+\" | \"+pwarna+\" | Rp.\"+pharga+\" | \"+pdiskon+\"% | \"+ppembeli+\" Orang\")\n",
    "    f.write(pnama+\",\"+pwarna+\",\"+pharga+\",\"+pdiskon+\",\"+ppembeli+\"\\n\")"
   ]
  },
  {
   "cell_type": "markdown",
   "metadata": {},
   "source": [
    "##### tutup koneksi"
   ]
  },
  {
   "cell_type": "code",
   "execution_count": null,
   "metadata": {},
   "outputs": [],
   "source": [
    "f.close()"
   ]
  }
 ],
 "metadata": {
  "kernelspec": {
   "display_name": "Python 3",
   "language": "python",
   "name": "python3"
  },
  "language_info": {
   "codemirror_mode": {
    "name": "ipython",
    "version": 3
   },
   "file_extension": ".py",
   "mimetype": "text/x-python",
   "name": "python",
   "nbconvert_exporter": "python",
   "pygments_lexer": "ipython3",
   "version": "3.7.0"
  }
 },
 "nbformat": 4,
 "nbformat_minor": 2
}
