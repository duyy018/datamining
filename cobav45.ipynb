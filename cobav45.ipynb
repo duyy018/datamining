{
 "cells": [
  {
   "cell_type": "markdown",
   "metadata": {},
   "source": [
    "# Data Mining"
   ]
  },
  {
   "cell_type": "code",
   "execution_count": null,
   "metadata": {},
   "outputs": [],
   "source": [
    "#import\n",
    "from bs4 import BeautifulSoup as soup\n",
    "from selenium import webdriver\n",
    "import re\n",
    "import time\n",
    "\n",
    "#buka koneksi\n",
    "con2 = webdriver.Chrome()\n",
    "#link lalu cetak link\n",
    "html = \"https://twitter.com/search?q=%23gojek&src=typd\"\n",
    "print(html)\n",
    "\n",
    "#konek ke lonk\n",
    "con2.get(html)\n",
    "\n",
    "#scroll kebawah\n",
    "con2.execute_script(\"window.scrollTo(0, document.body.scrollHeight);\")\n",
    "#waktu tunggu\n",
    "time.sleep(2)\n",
    "con2.execute_script(\"window.scrollTo(0, document.body.scrollHeight);\")\n",
    "time.sleep(2)\n",
    "con2.execute_script(\"window.scrollTo(0, document.body.scrollHeight);\")\n",
    "time.sleep(2)\n",
    "con2.execute_script(\"window.scrollTo(0, document.body.scrollHeight);\")\n",
    "time.sleep(2)\n",
    "\n",
    "#convert ke html\n",
    "page2 = soup(con2.page_source, \"html.parser\")\n",
    "#cetak data html 10 hurf pertama\n",
    "print(page2.prettify()[1:15])\n",
    "\n",
    "#memilih data yg diambil\n",
    "p2 = page2.findAll(\"li\", {\"data-item-type\":\"tweet\"})\n",
    "\n",
    "#print banyak data\n",
    "print(len(p2))\n"
   ]
  },
  {
   "cell_type": "code",
   "execution_count": null,
   "metadata": {},
   "outputs": [],
   "source": [
    "#buat file csv\n",
    "namafile = \"data.csv\"\n",
    "f = open(namafile, \"w\")\n",
    "#header\n",
    "column=\"nama,id,tweet,driver,aplikasi\\n\"\n",
    "f.write(column)\n",
    "\n",
    "#masukan ke file csv\n",
    "for kolom in p2:\n",
    "    \n",
    "    nama = kolom.find(\"span\",{\"class\":\"FullNameGroup\"}).text.strip().replace(\"\\u200f\",\"\")\n",
    "    idnama = kolom.find(\"span\",{\"class\":\"username u-dir u-textTruncate\"}).text.strip().replace(\"\\u200f\",\"\")\n",
    "    tweet = kolom.find(\"div\",{\"class\":\"js-tweet-text-container\"}).text.strip().replace(\"\\u200f\",\"\")\n",
    "    pnama = re.sub('[^ a-zA-Z0-9]', '', nama)\n",
    "    ptweet = re.sub('[^ a-zA-Z0-9]', '', tweet)\n",
    "    print(pnama+\" | \"+idnama+\"\\n\"+tweet+\"\\n\")\n",
    "    f.write(pnama+\",\"+idnama+\",\"+ptweet)\n",
    "    \n",
    "    kalimat = ptweet.lower().replace(\".\",\" \").replace(\",\",\" \").replace(\":\",\" \").split(\" \")\n",
    "    cari = ['driver','aplikasi']\n",
    "    for c in range(len(cari)):\n",
    "        banyak = 0\n",
    "        for i in range(len(kalimat)):\n",
    "            if cari[c] in kalimat[i]:\n",
    "                banyak = banyak +1\n",
    "        print(cari[c]+\" : \"+str(banyak))\n",
    "        f.write(\",\"+str(banyak))\n",
    "    \n",
    "    f.write(\"\\n\")\n",
    "f.close()"
   ]
  },
  {
   "cell_type": "markdown",
   "metadata": {},
   "source": [
    "## PERHITUNGAN BOBOT"
   ]
  },
  {
   "cell_type": "code",
   "execution_count": null,
   "metadata": {},
   "outputs": [],
   "source": [
    "import csv\n",
    "import math\n",
    "\n",
    "#Cari File\n",
    "with open('data.csv', newline='') as csvfile:\n",
    "    data = list(csv.reader(csvfile))\n",
    "\n",
    "#buat file csv bobot\n",
    "namafile = \"bobot.csv\"\n",
    "f = open(namafile, \"w\")\n",
    "#header\n",
    "column=\"df,D/df,log(D/df),log(D/df)+1\"\n",
    "f.write(column)\n",
    "for h in range(len(data)-1):\n",
    "    f.write(\",w\"+str(h+1))\n",
    "f.write(\"\\n\")\n",
    "\n",
    "\n",
    "    \n",
    "#cari D   \n",
    "d = len(data)\n",
    "print(\"D : \"+str(d-1))\n",
    "\n",
    "#cari Df\n",
    "for j in range(len(data[0])):\n",
    "    df = 0\n",
    "    if j > 2 :\n",
    "        for i in range(len(data)):\n",
    "            if data[i][j] != '0':\n",
    "                df = df+1\n",
    "        df=df-1\n",
    "        print(\"Df ke-\"+str(j)+\" : \"+str(df))\n",
    "        \n",
    "        #cari D/df\n",
    "        if df != 0:\n",
    "            ddf = d / df\n",
    "        else:\n",
    "            ddf = 0\n",
    "        print(\"D/df : \"+str(ddf))\n",
    "        \n",
    "        #cari log D/df\n",
    "        logddf = round(math.log(ddf ,10), 2)\n",
    "        print(\"log(D/Df) : \"+str(logddf))\n",
    "        \n",
    "        #ldf + 1\n",
    "        ldf1 = round(logddf + 1 , 2)\n",
    "        print(\"log(D/Df) + 1  : \"+str(ldf1))\n",
    "        \n",
    "        f.write(str(df)+\",\"+str(ddf)+\",\"+str(logddf)+\",\"+str(ldf1))\n",
    "        # W\n",
    "        for k in range(len(data)):\n",
    "            w = 0.0\n",
    "            if k > 0 :\n",
    "                w = int(data[k][j]) * ldf1\n",
    "                print(\"W-d\"+str(k)+\" : \"+str(w))\n",
    "                f.write(\",\"+str(w))\n",
    "        print(\"\\n\")\n",
    "        f.write(\"\\n\")\n",
    "f.close()"
   ]
  },
  {
   "cell_type": "markdown",
   "metadata": {},
   "source": [
    "## PERHITUNGAN BOBOT AKHIR"
   ]
  },
  {
   "cell_type": "code",
   "execution_count": 7,
   "metadata": {},
   "outputs": [
    {
     "name": "stdout",
     "output_type": "stream",
     "text": [
      "2.31\n",
      "2.31\n",
      "2.31\n",
      "2.31\n",
      "9.24\n",
      "\n",
      "2.43\n",
      "2.43\n",
      "2.43\n",
      "7.29\n",
      "\n"
     ]
    }
   ],
   "source": [
    "import csv\n",
    "\n",
    "#Cari File\n",
    "with open('bobot.csv', newline='') as csvfile:\n",
    "    data = list(csv.reader(csvfile))\n",
    "\n",
    "for m in range(len(data)):\n",
    "    if m > 0:\n",
    "        sumary = 0.0\n",
    "        for l in range(len(data[0])):\n",
    "            if l > 3 :\n",
    "                sumary = sumary + float(data[m][l])\n",
    "                if data[m][l] != \"0.0\":\n",
    "                    print(data[m][l])\n",
    "        print(str(round(sumary, 2))+\"\\n\")\n"
   ]
  },
  {
   "cell_type": "code",
   "execution_count": null,
   "metadata": {},
   "outputs": [],
   "source": []
  }
 ],
 "metadata": {
  "kernelspec": {
   "display_name": "Python 3",
   "language": "python",
   "name": "python3"
  },
  "language_info": {
   "codemirror_mode": {
    "name": "ipython",
    "version": 3
   },
   "file_extension": ".py",
   "mimetype": "text/x-python",
   "name": "python",
   "nbconvert_exporter": "python",
   "pygments_lexer": "ipython3",
   "version": "3.7.0"
  }
 },
 "nbformat": 4,
 "nbformat_minor": 2
}
