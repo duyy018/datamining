{
 "cells": [
  {
   "cell_type": "code",
   "execution_count": null,
   "metadata": {},
   "outputs": [],
   "source": [
    "opening = 0\n",
    "menu = 0\n",
    "link = \"kosong\"\n",
    "pd   = 0\n",
    "cari = \"unja\"\n",
    "while menu != 9:\n",
    "    if opening == 0:\n",
    "        print(\"\\n\\n                       :hdy.                      \\n                       +ddd.                      \\n                      `ddddo                      \\n                       yddd:                      \\n    .-/+sssso/-        :ddh        `-/+oo+/-.     \\nyddddddddddddddd+.     -ddd      :sdddddddddddhyhs\\n-hddddddddddddddddo` `-+ddd-`  :hdddddddddddddddd-   TWEET MINING V.2 CLI\\n `hddddddddddddddddd/dddddddd/yddddddddddddddddd.    SISTEM INFORMASI - UNIVERSITAS JAMBI\\n  `/hdddddddddddddddddddddddhdddddddddddddddddo-     by : @Duyy018\\n    `/oo+oydddddddddddddddddddddddddddddsssso.    \\n           `````:ddddddddddddddddo.----           \\n                :ddddddddddddddddo                \\n               /ydddddddddddddddds:               \\n              .dddddddddddddddddddd/              \\n               sddddddddddddddddddh.              \\n                `oddddddddddddddh-`               \\n                  oddddddddddddh.                 \\n                 `+ydddddddddddo.                 \\n                  `:oyh-...hyo:`                  \\n\")\n",
    "        opening = 1\n",
    "    if link != \"kosong\":\n",
    "        print(\"Link Anda : \"+link)\n",
    "    if pd != 0:\n",
    "        print(\"Panjang data yang ingin anda ambil lebih dari : \"+str(pd))\n",
    "    if cari != \"unja\":\n",
    "        print(\"Kata yang ingin dicari : \"+cari.replace(\",\",\" \"))\n",
    "        \n",
    "    print(\"1.Info \\n2.Input Link \\n3.Panjang Data \\n4.Kata yang Dicari \\n5.Lakukan Mining \\n8.Expert User \\n9.Keluar Aplikasi\")\n",
    "    menu = int(input(\"Pilih Menu : \"))\n",
    "    \n",
    "    if menu == 1:\n",
    "        print(\"Untuk Menjalankan Aplikasi ini anda harus menginstal\\n ->Selenium\\n     pip install selenium\\n ->Chrome *Terbaru\\n     https://dl.google.com/chrome/install/latest/chrome_installer.exe\\n ->Download Chrome Driver\\n     https://sites.google.com/a/chromium.org/chromedriver/downloads\\n     dan Extract di directory Python.Exe\\n     Biasanya di\\n     C:-Users-Duyy18-AppData-Local-Programs-Python\")\n",
    "    if menu == 2:\n",
    "        link = input(\"Salin dan Tempel link twitter anda disini : \")\n",
    "    if menu == 3:\n",
    "        pd = int(input(\"Banyak Data yang ingin diambil lebih dari : \"))\n",
    "    if menu == 4:\n",
    "        print(\"jika kata lebih dari satu sisipkan , ditiap kata | contoh : unja,si\")\n",
    "        cari = input(\"Kata yang ingin dicari : \")\n",
    "    if menu == 5:\n",
    "        if link == \"kosong\":\n",
    "            print(\"Masukan Link Terlebih dahulu !!\")\n",
    "        if pd == 0:\n",
    "            print(\"Masukan Panjang data Terlebih dahulu !!\")\n",
    "        if cari == \"unja\":\n",
    "            print(\"Masukan Kata yang ingin dicari Terlebih dahulu !!\")\n",
    "    print(\"\\n\\n\\n\")"
   ]
  }
 ],
 "metadata": {
  "kernelspec": {
   "display_name": "Python 3",
   "language": "python",
   "name": "python3"
  },
  "language_info": {
   "codemirror_mode": {
    "name": "ipython",
    "version": 3
   },
   "file_extension": ".py",
   "mimetype": "text/x-python",
   "name": "python",
   "nbconvert_exporter": "python",
   "pygments_lexer": "ipython3",
   "version": "3.7.0"
  }
 },
 "nbformat": 4,
 "nbformat_minor": 2
}
